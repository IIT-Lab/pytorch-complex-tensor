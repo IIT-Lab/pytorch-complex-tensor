{
 "cells": [
  {
   "cell_type": "markdown",
   "metadata": {},
   "source": [
    "## PT complex tensor examples"
   ]
  },
  {
   "cell_type": "code",
   "execution_count": 1,
   "metadata": {},
   "outputs": [],
   "source": [
    "import numpy as np\n",
    "import torch\n",
    "from organics.utils.complex_tensors import ComplexTensor\n",
    "import tensorflow as tf\n",
    "tf.enable_eager_execution()"
   ]
  },
  {
   "cell_type": "markdown",
   "metadata": {},
   "source": [
    "---   \n",
    "Creation"
   ]
  },
  {
   "cell_type": "code",
   "execution_count": 2,
   "metadata": {},
   "outputs": [
    {
     "data": {
      "text/plain": [
       "array([[1.+3.j, 1.+3.j, 1.+3.j],\n",
       "       [2.+4.j, 2.+4.j, 2.+4.j]], dtype=complex64)"
      ]
     },
     "execution_count": 2,
     "metadata": {},
     "output_type": "execute_result"
    }
   ],
   "source": [
    "# numpy complex tensor\n",
    "np_c = np.asarray([[1+3j, 1+3j, 1+3j], [2+4j, 2+4j, 2+4j]]).astype(np.complex64)\n",
    "np_c"
   ]
  },
  {
   "cell_type": "code",
   "execution_count": 3,
   "metadata": {},
   "outputs": [
    {
     "data": {
      "text/plain": [
       "tensor([[1., 1., 1.],\n",
       "        [2., 2., 2.],\n",
       "        [3., 3., 3.],\n",
       "        [4., 4., 4.]])"
      ]
     },
     "execution_count": 3,
     "metadata": {},
     "output_type": "execute_result"
    }
   ],
   "source": [
    "# torch equivalent\n",
    "pt_c = ComplexTensor([[1, 1, 1], [2,2,2], [3,3,3], [4,4,4]])\n",
    "pt_c"
   ]
  },
  {
   "cell_type": "code",
   "execution_count": 4,
   "metadata": {},
   "outputs": [
    {
     "name": "stdout",
     "output_type": "stream",
     "text": [
      "[[1. 1. 1.]\n",
      " [2. 2. 2.]]\n",
      "tensor([[1., 1., 1.],\n",
      "        [2., 2., 2.]])\n"
     ]
    }
   ],
   "source": [
    "# verify reals match\n",
    "print(np_c.real)\n",
    "print(pt_c.real)"
   ]
  },
  {
   "cell_type": "code",
   "execution_count": 5,
   "metadata": {},
   "outputs": [
    {
     "name": "stdout",
     "output_type": "stream",
     "text": [
      "[[3. 3. 3.]\n",
      " [4. 4. 4.]]\n",
      "tensor([[3., 3., 3.],\n",
      "        [4., 4., 4.]])\n"
     ]
    }
   ],
   "source": [
    "# verify imag match\n",
    "print(np_c.imag)\n",
    "print(pt_c.imag)"
   ]
  },
  {
   "cell_type": "markdown",
   "metadata": {},
   "source": [
    "---   \n",
    "Verify complex addition"
   ]
  },
  {
   "cell_type": "code",
   "execution_count": 6,
   "metadata": {},
   "outputs": [
    {
     "data": {
      "text/plain": [
       "array([[4.+5.j, 4.+5.j, 4.+5.j],\n",
       "       [5.+6.j, 5.+6.j, 5.+6.j]], dtype=complex64)"
      ]
     },
     "execution_count": 6,
     "metadata": {},
     "output_type": "execute_result"
    }
   ],
   "source": [
    "np_c + (3+2j)"
   ]
  },
  {
   "cell_type": "code",
   "execution_count": 7,
   "metadata": {},
   "outputs": [
    {
     "data": {
      "text/plain": [
       "tensor([[4., 4., 4.],\n",
       "        [5., 5., 5.],\n",
       "        [5., 5., 5.],\n",
       "        [6., 6., 6.]])"
      ]
     },
     "execution_count": 7,
     "metadata": {},
     "output_type": "execute_result"
    }
   ],
   "source": [
    "pt_c + (3 + 2j)"
   ]
  },
  {
   "cell_type": "markdown",
   "metadata": {},
   "source": [
    "--- \n",
    "verify abs"
   ]
  },
  {
   "cell_type": "code",
   "execution_count": 8,
   "metadata": {},
   "outputs": [
    {
     "data": {
      "text/plain": [
       "array([[3.1622777, 3.1622777, 3.1622777],\n",
       "       [4.472136 , 4.472136 , 4.472136 ]], dtype=float32)"
      ]
     },
     "execution_count": 8,
     "metadata": {},
     "output_type": "execute_result"
    }
   ],
   "source": [
    "np.abs(np_c)"
   ]
  },
  {
   "cell_type": "code",
   "execution_count": 9,
   "metadata": {},
   "outputs": [
    {
     "data": {
      "text/plain": [
       "tensor([[3.1623, 3.1623, 3.1623],\n",
       "        [4.4721, 4.4721, 4.4721]])"
      ]
     },
     "execution_count": 9,
     "metadata": {},
     "output_type": "execute_result"
    }
   ],
   "source": [
    "pt_c.abs()"
   ]
  },
  {
   "cell_type": "markdown",
   "metadata": {},
   "source": [
    "--- \n",
    "verify complex vs real matrix multiply"
   ]
  },
  {
   "cell_type": "code",
   "execution_count": 10,
   "metadata": {},
   "outputs": [
    {
     "name": "stdout",
     "output_type": "stream",
     "text": [
      "[[3 3]\n",
      " [4 4]\n",
      " [2 2]]\n",
      "tensor([[3., 3.],\n",
      "        [4., 4.],\n",
      "        [2., 2.]])\n"
     ]
    }
   ],
   "source": [
    "np_x = np.asarray([[3, 3], [4, 4], [2, 2]])\n",
    "pt_x = torch.Tensor([[3, 3], [4, 4], [2, 2]])\n",
    "\n",
    "print(np_x)\n",
    "print(pt_x)"
   ]
  },
  {
   "cell_type": "code",
   "execution_count": 11,
   "metadata": {},
   "outputs": [
    {
     "data": {
      "text/plain": [
       "array([[ 9.+27.j,  9.+27.j],\n",
       "       [18.+36.j, 18.+36.j]])"
      ]
     },
     "execution_count": 11,
     "metadata": {},
     "output_type": "execute_result"
    }
   ],
   "source": [
    "np_mm_out = np.matmul(np_c, np_x)\n",
    "np_mm_out"
   ]
  },
  {
   "cell_type": "code",
   "execution_count": 12,
   "metadata": {},
   "outputs": [
    {
     "data": {
      "text/plain": [
       "tensor([[ 9.,  9.],\n",
       "        [18., 18.],\n",
       "        [27., 27.],\n",
       "        [36., 36.]])"
      ]
     },
     "execution_count": 12,
     "metadata": {},
     "output_type": "execute_result"
    }
   ],
   "source": [
    "pt_mm_out = pt_c.mm(pt_x)\n",
    "pt_mm_out"
   ]
  },
  {
   "cell_type": "code",
   "execution_count": 13,
   "metadata": {},
   "outputs": [
    {
     "name": "stdout",
     "output_type": "stream",
     "text": [
      "[[ 9.  9.]\n",
      " [18. 18.]]\n",
      "tensor([[ 9.,  9.],\n",
      "        [18., 18.]])\n"
     ]
    }
   ],
   "source": [
    "# verify reals\n",
    "print(np_mm_out.real)\n",
    "print(pt_mm_out.real)"
   ]
  },
  {
   "cell_type": "code",
   "execution_count": 14,
   "metadata": {},
   "outputs": [
    {
     "name": "stdout",
     "output_type": "stream",
     "text": [
      "[[27. 27.]\n",
      " [36. 36.]]\n",
      "tensor([[27., 27.],\n",
      "        [36., 36.]])\n"
     ]
    }
   ],
   "source": [
    "# verify imags\n",
    "print(np_mm_out.imag)\n",
    "print(pt_mm_out.imag)"
   ]
  },
  {
   "cell_type": "markdown",
   "metadata": {},
   "source": [
    "--- \n",
    "verify transpose"
   ]
  },
  {
   "cell_type": "code",
   "execution_count": 15,
   "metadata": {},
   "outputs": [
    {
     "data": {
      "text/plain": [
       "array([[1.+3.j, 2.+4.j],\n",
       "       [1.+3.j, 2.+4.j],\n",
       "       [1.+3.j, 2.+4.j]], dtype=complex64)"
      ]
     },
     "execution_count": 15,
     "metadata": {},
     "output_type": "execute_result"
    }
   ],
   "source": [
    "np_c.T"
   ]
  },
  {
   "cell_type": "code",
   "execution_count": 16,
   "metadata": {},
   "outputs": [
    {
     "data": {
      "text/plain": [
       "tensor([[1., 2.],\n",
       "        [1., 2.],\n",
       "        [1., 2.],\n",
       "        [3., 4.],\n",
       "        [3., 4.],\n",
       "        [3., 4.]])"
      ]
     },
     "execution_count": 16,
     "metadata": {},
     "output_type": "execute_result"
    }
   ],
   "source": [
    "pt_c.t()"
   ]
  },
  {
   "cell_type": "markdown",
   "metadata": {},
   "source": [
    "--- \n",
    "## See if gradients still work \n"
   ]
  },
  {
   "cell_type": "code",
   "execution_count": 17,
   "metadata": {},
   "outputs": [],
   "source": [
    "pt_c2 = ComplexTensor([[2, 2, 2], [1,1,1], [4,4,4], [3,3,3]])\n",
    "pt_c2.requires_grad = True"
   ]
  },
  {
   "cell_type": "code",
   "execution_count": 18,
   "metadata": {},
   "outputs": [
    {
     "name": "stdout",
     "output_type": "stream",
     "text": [
      "tensor([[-18., -12.],\n",
      "        [-12.,  -6.],\n",
      "        [ 66.,  96.],\n",
      "        [ 54.,  78.]], grad_fn=<CatBackward>)\n"
     ]
    }
   ],
   "source": [
    "out = pt_c2 + 4\n",
    "out = out.mm(pt_c.t())\n",
    "print(out)"
   ]
  },
  {
   "cell_type": "code",
   "execution_count": 19,
   "metadata": {},
   "outputs": [
    {
     "name": "stdout",
     "output_type": "stream",
     "text": [
      "tensor(246., grad_fn=<SumBackward0>)\n"
     ]
    }
   ],
   "source": [
    "y = out.sum()\n",
    "print(y)"
   ]
  },
  {
   "cell_type": "code",
   "execution_count": 20,
   "metadata": {},
   "outputs": [],
   "source": [
    "y.backward()"
   ]
  },
  {
   "cell_type": "code",
   "execution_count": 21,
   "metadata": {},
   "outputs": [
    {
     "data": {
      "text/plain": [
       "tensor([[10., 10., 10.],\n",
       "        [10., 10., 10.],\n",
       "        [-4., -4., -4.],\n",
       "        [-4., -4., -4.]])"
      ]
     },
     "execution_count": 21,
     "metadata": {},
     "output_type": "execute_result"
    }
   ],
   "source": [
    "pt_c2.grad"
   ]
  },
  {
   "cell_type": "markdown",
   "metadata": {},
   "source": [
    "---  \n",
    "### Use Tensorflow to compute grads\n"
   ]
  },
  {
   "cell_type": "code",
   "execution_count": 2,
   "metadata": {},
   "outputs": [],
   "source": [
    "tf_c = tf.constant([[1+3j, 1+3j, 1+3j], [2+4j, 2+4j, 2+4j]], dtype=tf.complex64)\n",
    "tf_c2 = tf.constant([[2+4j, 2+4j, 2+4j], [1+3j,1+3j,1+3j]], dtype=tf.complex64)"
   ]
  },
  {
   "cell_type": "code",
   "execution_count": 3,
   "metadata": {},
   "outputs": [
    {
     "name": "stdout",
     "output_type": "stream",
     "text": [
      "tf.Tensor(\n",
      "[[-18.+66.j -12.+96.j]\n",
      " [-12.+54.j  -6.+78.j]], shape=(2, 2), dtype=complex64)\n",
      "tf.Tensor((-48+294j), shape=(), dtype=complex64)\n"
     ]
    }
   ],
   "source": [
    "with tf.GradientTape() as t:\n",
    "    t.watch(tf_c2)\n",
    "    tf_out = tf_c2 + 4\n",
    "    tf_out = tf.matmul(tf_out, tf.transpose(tf_c, perm=[1,0]))\n",
    "    print(tf_out)\n",
    "    \n",
    "    tf_y = tf.reduce_sum(tf_out)\n",
    "    print(tf_y)"
   ]
  },
  {
   "cell_type": "code",
   "execution_count": 4,
   "metadata": {},
   "outputs": [],
   "source": [
    "dy_dc2 = t.gradient(tf_y, tf_c2)"
   ]
  },
  {
   "cell_type": "code",
   "execution_count": 5,
   "metadata": {},
   "outputs": [
    {
     "data": {
      "text/plain": [
       "<tf.Tensor: id=27, shape=(2, 3), dtype=complex64, numpy=\n",
       "array([[3.-7.j, 3.-7.j, 3.-7.j],\n",
       "       [3.-7.j, 3.-7.j, 3.-7.j]], dtype=complex64)>"
      ]
     },
     "execution_count": 5,
     "metadata": {},
     "output_type": "execute_result"
    }
   ],
   "source": [
    "dy_dc2"
   ]
  },
  {
   "cell_type": "code",
   "execution_count": null,
   "metadata": {},
   "outputs": [],
   "source": []
  }
 ],
 "metadata": {
  "kernelspec": {
   "display_name": "Python [conda env:organics]",
   "language": "python",
   "name": "conda-env-organics-py"
  },
  "language_info": {
   "codemirror_mode": {
    "name": "ipython",
    "version": 3
   },
   "file_extension": ".py",
   "mimetype": "text/x-python",
   "name": "python",
   "nbconvert_exporter": "python",
   "pygments_lexer": "ipython3",
   "version": "3.6.6"
  }
 },
 "nbformat": 4,
 "nbformat_minor": 2
}
